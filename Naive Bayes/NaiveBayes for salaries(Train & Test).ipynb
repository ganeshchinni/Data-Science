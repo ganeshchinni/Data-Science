{
 "cells": [
  {
   "cell_type": "code",
   "execution_count": 89,
   "id": "2413f4d1",
   "metadata": {},
   "outputs": [],
   "source": [
    "import pandas as pd\n",
    "salary_test=pd.read_csv(r\"C:\\data\\data science\\Study material\\Machine learning classifiers (Naive bayes)\\Datasets_Naive Bayes\\SalaryData_Test.csv\",encoding = \"ISO-8859-1\")\n",
    "salary_train=pd.read_csv(r\"C:\\data\\data science\\Study material\\Machine learning classifiers (Naive bayes)\\Datasets_Naive Bayes\\SalaryData_Train.csv\",encoding = \"ISO-8859-1\")"
   ]
  },
  {
   "cell_type": "code",
   "execution_count": 90,
   "id": "f572b1fc",
   "metadata": {},
   "outputs": [
    {
     "name": "stdout",
     "output_type": "stream",
     "text": [
      "<class 'pandas.core.frame.DataFrame'>\n",
      "RangeIndex: 15060 entries, 0 to 15059\n",
      "Data columns (total 14 columns):\n",
      " #   Column         Non-Null Count  Dtype \n",
      "---  ------         --------------  ----- \n",
      " 0   age            15060 non-null  int64 \n",
      " 1   workclass      15060 non-null  object\n",
      " 2   education      15060 non-null  object\n",
      " 3   educationno    15060 non-null  int64 \n",
      " 4   maritalstatus  15060 non-null  object\n",
      " 5   occupation     15060 non-null  object\n",
      " 6   relationship   15060 non-null  object\n",
      " 7   race           15060 non-null  object\n",
      " 8   sex            15060 non-null  object\n",
      " 9   capitalgain    15060 non-null  int64 \n",
      " 10  capitalloss    15060 non-null  int64 \n",
      " 11  hoursperweek   15060 non-null  int64 \n",
      " 12  native         15060 non-null  object\n",
      " 13  Salary         15060 non-null  object\n",
      "dtypes: int64(5), object(9)\n",
      "memory usage: 1.6+ MB\n"
     ]
    }
   ],
   "source": [
    "salary_test.info()"
   ]
  },
  {
   "cell_type": "code",
   "execution_count": 91,
   "id": "4a1e5a33",
   "metadata": {},
   "outputs": [
    {
     "data": {
      "text/plain": [
       "age              0\n",
       "workclass        0\n",
       "education        0\n",
       "educationno      0\n",
       "maritalstatus    0\n",
       "occupation       0\n",
       "relationship     0\n",
       "race             0\n",
       "sex              0\n",
       "capitalgain      0\n",
       "capitalloss      0\n",
       "hoursperweek     0\n",
       "native           0\n",
       "Salary           0\n",
       "dtype: int64"
      ]
     },
     "execution_count": 91,
     "metadata": {},
     "output_type": "execute_result"
    }
   ],
   "source": [
    "salary_test.isna().sum()\n",
    "salary_train.isna().sum()"
   ]
  },
  {
   "cell_type": "code",
   "execution_count": 92,
   "id": "6778fbab",
   "metadata": {},
   "outputs": [
    {
     "data": {
      "text/plain": [
       "930"
      ]
     },
     "execution_count": 92,
     "metadata": {},
     "output_type": "execute_result"
    }
   ],
   "source": [
    "duplicate = salary_test.duplicated()\n",
    "duplicate\n",
    "sum(duplicate)"
   ]
  },
  {
   "cell_type": "code",
   "execution_count": 93,
   "id": "092a1f48",
   "metadata": {},
   "outputs": [
    {
     "data": {
      "text/plain": [
       "3258"
      ]
     },
     "execution_count": 93,
     "metadata": {},
     "output_type": "execute_result"
    }
   ],
   "source": [
    "duplicate = salary_train.duplicated()\n",
    "duplicate\n",
    "sum(duplicate)"
   ]
  },
  {
   "cell_type": "code",
   "execution_count": 94,
   "id": "6bd8e32e",
   "metadata": {},
   "outputs": [],
   "source": [
    "new_salary_test=salary_test.drop_duplicates()\n",
    "new_salary_train=salary_train.drop_duplicates()#removing duplicated items"
   ]
  },
  {
   "cell_type": "code",
   "execution_count": 95,
   "id": "75eb5298",
   "metadata": {},
   "outputs": [
    {
     "data": {
      "text/plain": [
       "0"
      ]
     },
     "execution_count": 95,
     "metadata": {},
     "output_type": "execute_result"
    }
   ],
   "source": [
    "new_salary_test.duplicated()\n",
    "sum(duplicate1)"
   ]
  },
  {
   "cell_type": "code",
   "execution_count": 96,
   "id": "1c48b31d",
   "metadata": {},
   "outputs": [
    {
     "data": {
      "text/plain": [
       "0"
      ]
     },
     "execution_count": 96,
     "metadata": {},
     "output_type": "execute_result"
    }
   ],
   "source": [
    "new_salary_train.duplicated()\n",
    "sum(duplicate1)"
   ]
  },
  {
   "cell_type": "code",
   "execution_count": 97,
   "id": "dd4eee1b",
   "metadata": {},
   "outputs": [],
   "source": [
    "#new_salary_test1=pd.get_dummies(new_salary_test)#creating dummies for nominal data\n",
    "#new_salary_train1=pd.get_dummies(new_salary_train)#creating dummies for nominal data \n",
    "#new_salary_test1,new_salary_train1"
   ]
  },
  {
   "cell_type": "code",
   "execution_count": 98,
   "id": "30fbbe93",
   "metadata": {},
   "outputs": [
    {
     "name": "stdout",
     "output_type": "stream",
     "text": [
      "<class 'pandas.core.frame.DataFrame'>\n",
      "Int64Index: 26903 entries, 0 to 30160\n",
      "Data columns (total 14 columns):\n",
      " #   Column         Non-Null Count  Dtype \n",
      "---  ------         --------------  ----- \n",
      " 0   age            26903 non-null  int64 \n",
      " 1   workclass      26903 non-null  object\n",
      " 2   education      26903 non-null  object\n",
      " 3   educationno    26903 non-null  int64 \n",
      " 4   maritalstatus  26903 non-null  object\n",
      " 5   occupation     26903 non-null  object\n",
      " 6   relationship   26903 non-null  object\n",
      " 7   race           26903 non-null  object\n",
      " 8   sex            26903 non-null  object\n",
      " 9   capitalgain    26903 non-null  int64 \n",
      " 10  capitalloss    26903 non-null  int64 \n",
      " 11  hoursperweek   26903 non-null  int64 \n",
      " 12  native         26903 non-null  object\n",
      " 13  Salary         26903 non-null  object\n",
      "dtypes: int64(5), object(9)\n",
      "memory usage: 3.1+ MB\n"
     ]
    }
   ],
   "source": [
    "new_salary_train.info()"
   ]
  },
  {
   "cell_type": "code",
   "execution_count": 100,
   "id": "18fc22d7",
   "metadata": {},
   "outputs": [],
   "source": [
    "# Preparing a naive bayes model on training data set \n",
    "\n",
    "from sklearn.naive_bayes import MultinomialNB as MB"
   ]
  },
  {
   "cell_type": "code",
   "execution_count": 101,
   "id": "ec2fb437",
   "metadata": {
    "scrolled": true
   },
   "outputs": [
    {
     "name": "stderr",
     "output_type": "stream",
     "text": [
      "<ipython-input-101-ccc850a95ad1>:4: SettingWithCopyWarning: \n",
      "A value is trying to be set on a copy of a slice from a DataFrame.\n",
      "Try using .loc[row_indexer,col_indexer] = value instead\n",
      "\n",
      "See the caveats in the documentation: https://pandas.pydata.org/pandas-docs/stable/user_guide/indexing.html#returning-a-view-versus-a-copy\n",
      "  new_salary_train['workclass']=le.fit_transform(new_salary_train.workclass)\n",
      "<ipython-input-101-ccc850a95ad1>:5: SettingWithCopyWarning: \n",
      "A value is trying to be set on a copy of a slice from a DataFrame.\n",
      "Try using .loc[row_indexer,col_indexer] = value instead\n",
      "\n",
      "See the caveats in the documentation: https://pandas.pydata.org/pandas-docs/stable/user_guide/indexing.html#returning-a-view-versus-a-copy\n",
      "  new_salary_train['education']=le.fit_transform(new_salary_train.education)\n",
      "<ipython-input-101-ccc850a95ad1>:6: SettingWithCopyWarning: \n",
      "A value is trying to be set on a copy of a slice from a DataFrame.\n",
      "Try using .loc[row_indexer,col_indexer] = value instead\n",
      "\n",
      "See the caveats in the documentation: https://pandas.pydata.org/pandas-docs/stable/user_guide/indexing.html#returning-a-view-versus-a-copy\n",
      "  new_salary_train['maritalstatus']=le.fit_transform(new_salary_train.maritalstatus)\n",
      "<ipython-input-101-ccc850a95ad1>:7: SettingWithCopyWarning: \n",
      "A value is trying to be set on a copy of a slice from a DataFrame.\n",
      "Try using .loc[row_indexer,col_indexer] = value instead\n",
      "\n",
      "See the caveats in the documentation: https://pandas.pydata.org/pandas-docs/stable/user_guide/indexing.html#returning-a-view-versus-a-copy\n",
      "  new_salary_train['occupation']=le.fit_transform(new_salary_train.occupation)\n",
      "<ipython-input-101-ccc850a95ad1>:8: SettingWithCopyWarning: \n",
      "A value is trying to be set on a copy of a slice from a DataFrame.\n",
      "Try using .loc[row_indexer,col_indexer] = value instead\n",
      "\n",
      "See the caveats in the documentation: https://pandas.pydata.org/pandas-docs/stable/user_guide/indexing.html#returning-a-view-versus-a-copy\n",
      "  new_salary_train['relationship']=le.fit_transform(new_salary_train.relationship)\n",
      "<ipython-input-101-ccc850a95ad1>:9: SettingWithCopyWarning: \n",
      "A value is trying to be set on a copy of a slice from a DataFrame.\n",
      "Try using .loc[row_indexer,col_indexer] = value instead\n",
      "\n",
      "See the caveats in the documentation: https://pandas.pydata.org/pandas-docs/stable/user_guide/indexing.html#returning-a-view-versus-a-copy\n",
      "  new_salary_train['race']=le.fit_transform(new_salary_train.race)\n",
      "<ipython-input-101-ccc850a95ad1>:10: SettingWithCopyWarning: \n",
      "A value is trying to be set on a copy of a slice from a DataFrame.\n",
      "Try using .loc[row_indexer,col_indexer] = value instead\n",
      "\n",
      "See the caveats in the documentation: https://pandas.pydata.org/pandas-docs/stable/user_guide/indexing.html#returning-a-view-versus-a-copy\n",
      "  new_salary_train['sex']=le.fit_transform(new_salary_train.sex)\n",
      "<ipython-input-101-ccc850a95ad1>:11: SettingWithCopyWarning: \n",
      "A value is trying to be set on a copy of a slice from a DataFrame.\n",
      "Try using .loc[row_indexer,col_indexer] = value instead\n",
      "\n",
      "See the caveats in the documentation: https://pandas.pydata.org/pandas-docs/stable/user_guide/indexing.html#returning-a-view-versus-a-copy\n",
      "  new_salary_train['native']=le.fit_transform(new_salary_train.native)\n",
      "<ipython-input-101-ccc850a95ad1>:12: SettingWithCopyWarning: \n",
      "A value is trying to be set on a copy of a slice from a DataFrame.\n",
      "Try using .loc[row_indexer,col_indexer] = value instead\n",
      "\n",
      "See the caveats in the documentation: https://pandas.pydata.org/pandas-docs/stable/user_guide/indexing.html#returning-a-view-versus-a-copy\n",
      "  new_salary_train['Salary']=le.fit_transform(new_salary_train.Salary)\n"
     ]
    }
   ],
   "source": [
    "from sklearn.preprocessing import LabelEncoder  # for Ordinal data columns\n",
    "le=LabelEncoder()\n",
    "dfle=new_salary_train\n",
    "new_salary_train['workclass']=le.fit_transform(new_salary_train.workclass)\n",
    "new_salary_train['education']=le.fit_transform(new_salary_train.education)\n",
    "new_salary_train['maritalstatus']=le.fit_transform(new_salary_train.maritalstatus)\n",
    "new_salary_train['occupation']=le.fit_transform(new_salary_train.occupation)\n",
    "new_salary_train['relationship']=le.fit_transform(new_salary_train.relationship)\n",
    "new_salary_train['race']=le.fit_transform(new_salary_train.race)\n",
    "new_salary_train['sex']=le.fit_transform(new_salary_train.sex)\n",
    "new_salary_train['native']=le.fit_transform(new_salary_train.native)\n",
    "new_salary_train['Salary']=le.fit_transform(new_salary_train.Salary)"
   ]
  },
  {
   "cell_type": "code",
   "execution_count": 103,
   "id": "c2f99681",
   "metadata": {},
   "outputs": [
    {
     "name": "stderr",
     "output_type": "stream",
     "text": [
      "<ipython-input-103-d449cd698fe7>:4: SettingWithCopyWarning: \n",
      "A value is trying to be set on a copy of a slice from a DataFrame.\n",
      "Try using .loc[row_indexer,col_indexer] = value instead\n",
      "\n",
      "See the caveats in the documentation: https://pandas.pydata.org/pandas-docs/stable/user_guide/indexing.html#returning-a-view-versus-a-copy\n",
      "  new_salary_test['workclass']=le.fit_transform(new_salary_test.workclass)\n",
      "<ipython-input-103-d449cd698fe7>:5: SettingWithCopyWarning: \n",
      "A value is trying to be set on a copy of a slice from a DataFrame.\n",
      "Try using .loc[row_indexer,col_indexer] = value instead\n",
      "\n",
      "See the caveats in the documentation: https://pandas.pydata.org/pandas-docs/stable/user_guide/indexing.html#returning-a-view-versus-a-copy\n",
      "  new_salary_test['education']=le.fit_transform(new_salary_test.education)\n",
      "<ipython-input-103-d449cd698fe7>:6: SettingWithCopyWarning: \n",
      "A value is trying to be set on a copy of a slice from a DataFrame.\n",
      "Try using .loc[row_indexer,col_indexer] = value instead\n",
      "\n",
      "See the caveats in the documentation: https://pandas.pydata.org/pandas-docs/stable/user_guide/indexing.html#returning-a-view-versus-a-copy\n",
      "  new_salary_test['maritalstatus']=le.fit_transform(new_salary_test.maritalstatus)\n",
      "<ipython-input-103-d449cd698fe7>:7: SettingWithCopyWarning: \n",
      "A value is trying to be set on a copy of a slice from a DataFrame.\n",
      "Try using .loc[row_indexer,col_indexer] = value instead\n",
      "\n",
      "See the caveats in the documentation: https://pandas.pydata.org/pandas-docs/stable/user_guide/indexing.html#returning-a-view-versus-a-copy\n",
      "  new_salary_test['occupation']=le.fit_transform(new_salary_test.occupation)\n",
      "<ipython-input-103-d449cd698fe7>:8: SettingWithCopyWarning: \n",
      "A value is trying to be set on a copy of a slice from a DataFrame.\n",
      "Try using .loc[row_indexer,col_indexer] = value instead\n",
      "\n",
      "See the caveats in the documentation: https://pandas.pydata.org/pandas-docs/stable/user_guide/indexing.html#returning-a-view-versus-a-copy\n",
      "  new_salary_test['relationship']=le.fit_transform(new_salary_test.relationship)\n",
      "<ipython-input-103-d449cd698fe7>:9: SettingWithCopyWarning: \n",
      "A value is trying to be set on a copy of a slice from a DataFrame.\n",
      "Try using .loc[row_indexer,col_indexer] = value instead\n",
      "\n",
      "See the caveats in the documentation: https://pandas.pydata.org/pandas-docs/stable/user_guide/indexing.html#returning-a-view-versus-a-copy\n",
      "  new_salary_test['race']=le.fit_transform(new_salary_test.race)\n",
      "<ipython-input-103-d449cd698fe7>:10: SettingWithCopyWarning: \n",
      "A value is trying to be set on a copy of a slice from a DataFrame.\n",
      "Try using .loc[row_indexer,col_indexer] = value instead\n",
      "\n",
      "See the caveats in the documentation: https://pandas.pydata.org/pandas-docs/stable/user_guide/indexing.html#returning-a-view-versus-a-copy\n",
      "  new_salary_test['sex']=le.fit_transform(new_salary_test.sex)\n",
      "<ipython-input-103-d449cd698fe7>:11: SettingWithCopyWarning: \n",
      "A value is trying to be set on a copy of a slice from a DataFrame.\n",
      "Try using .loc[row_indexer,col_indexer] = value instead\n",
      "\n",
      "See the caveats in the documentation: https://pandas.pydata.org/pandas-docs/stable/user_guide/indexing.html#returning-a-view-versus-a-copy\n",
      "  new_salary_test['native']=le.fit_transform(new_salary_test.native)\n",
      "<ipython-input-103-d449cd698fe7>:12: SettingWithCopyWarning: \n",
      "A value is trying to be set on a copy of a slice from a DataFrame.\n",
      "Try using .loc[row_indexer,col_indexer] = value instead\n",
      "\n",
      "See the caveats in the documentation: https://pandas.pydata.org/pandas-docs/stable/user_guide/indexing.html#returning-a-view-versus-a-copy\n",
      "  new_salary_test['Salary']=le.fit_transform(new_salary_test.Salary)\n"
     ]
    }
   ],
   "source": [
    "from sklearn.preprocessing import LabelEncoder  # for Ordinal data columns\n",
    "le=LabelEncoder()\n",
    "dfle=new_salary_train\n",
    "new_salary_test['workclass']=le.fit_transform(new_salary_test.workclass)\n",
    "new_salary_test['education']=le.fit_transform(new_salary_test.education)\n",
    "new_salary_test['maritalstatus']=le.fit_transform(new_salary_test.maritalstatus)\n",
    "new_salary_test['occupation']=le.fit_transform(new_salary_test.occupation)\n",
    "new_salary_test['relationship']=le.fit_transform(new_salary_test.relationship)\n",
    "new_salary_test['race']=le.fit_transform(new_salary_test.race)\n",
    "new_salary_test['sex']=le.fit_transform(new_salary_test.sex)\n",
    "new_salary_test['native']=le.fit_transform(new_salary_test.native)\n",
    "new_salary_test['Salary']=le.fit_transform(new_salary_test.Salary)"
   ]
  },
  {
   "cell_type": "code",
   "execution_count": 104,
   "id": "d642c7f8",
   "metadata": {},
   "outputs": [
    {
     "name": "stdout",
     "output_type": "stream",
     "text": [
      "<class 'pandas.core.frame.DataFrame'>\n",
      "Int64Index: 26903 entries, 0 to 30160\n",
      "Data columns (total 14 columns):\n",
      " #   Column         Non-Null Count  Dtype\n",
      "---  ------         --------------  -----\n",
      " 0   age            26903 non-null  int64\n",
      " 1   workclass      26903 non-null  int32\n",
      " 2   education      26903 non-null  int32\n",
      " 3   educationno    26903 non-null  int64\n",
      " 4   maritalstatus  26903 non-null  int32\n",
      " 5   occupation     26903 non-null  int32\n",
      " 6   relationship   26903 non-null  int32\n",
      " 7   race           26903 non-null  int32\n",
      " 8   sex            26903 non-null  int32\n",
      " 9   capitalgain    26903 non-null  int64\n",
      " 10  capitalloss    26903 non-null  int64\n",
      " 11  hoursperweek   26903 non-null  int64\n",
      " 12  native         26903 non-null  int32\n",
      " 13  Salary         26903 non-null  int32\n",
      "dtypes: int32(9), int64(5)\n",
      "memory usage: 2.2 MB\n",
      "<class 'pandas.core.frame.DataFrame'>\n",
      "Int64Index: 14130 entries, 0 to 15059\n",
      "Data columns (total 14 columns):\n",
      " #   Column         Non-Null Count  Dtype\n",
      "---  ------         --------------  -----\n",
      " 0   age            14130 non-null  int64\n",
      " 1   workclass      14130 non-null  int32\n",
      " 2   education      14130 non-null  int32\n",
      " 3   educationno    14130 non-null  int64\n",
      " 4   maritalstatus  14130 non-null  int32\n",
      " 5   occupation     14130 non-null  int32\n",
      " 6   relationship   14130 non-null  int32\n",
      " 7   race           14130 non-null  int32\n",
      " 8   sex            14130 non-null  int32\n",
      " 9   capitalgain    14130 non-null  int64\n",
      " 10  capitalloss    14130 non-null  int64\n",
      " 11  hoursperweek   14130 non-null  int64\n",
      " 12  native         14130 non-null  int32\n",
      " 13  Salary         14130 non-null  int32\n",
      "dtypes: int32(9), int64(5)\n",
      "memory usage: 1.1 MB\n"
     ]
    }
   ],
   "source": [
    "new_salary_train.info()\n",
    "new_salary_test.info()"
   ]
  },
  {
   "cell_type": "code",
   "execution_count": 106,
   "id": "c68551df",
   "metadata": {},
   "outputs": [
    {
     "data": {
      "text/plain": [
       "MultinomialNB()"
      ]
     },
     "execution_count": 106,
     "metadata": {},
     "output_type": "execute_result"
    }
   ],
   "source": [
    "# Multinomial Naive Bayes\n",
    "classifier_mb = MB()\n",
    "classifier_mb.fit(new_salary_train,new_salary_train.Salary)"
   ]
  },
  {
   "cell_type": "code",
   "execution_count": 109,
   "id": "b63a5725",
   "metadata": {},
   "outputs": [
    {
     "data": {
      "text/plain": [
       "0.7733899504600141"
      ]
     },
     "execution_count": 109,
     "metadata": {},
     "output_type": "execute_result"
    }
   ],
   "source": [
    "#evaluation on test data\n",
    "import numpy as np\n",
    "test_pred=classifier_mb.predict(new_salary_test)\n",
    "accuracy_test=np.mean(test_pred==new_salary_test.Salary)\n",
    "accuracy_test"
   ]
  },
  {
   "cell_type": "code",
   "execution_count": 110,
   "id": "b9f0f67f",
   "metadata": {},
   "outputs": [
    {
     "data": {
      "text/plain": [
       "0.7733899504600141"
      ]
     },
     "execution_count": 110,
     "metadata": {},
     "output_type": "execute_result"
    }
   ],
   "source": [
    "from sklearn.metrics import accuracy_score\n",
    "accuracy_score(test_pred, new_salary_test.Salary) "
   ]
  },
  {
   "cell_type": "code",
   "execution_count": 112,
   "id": "e1cc41e8",
   "metadata": {},
   "outputs": [
    {
     "data": {
      "text/html": [
       "<div>\n",
       "<style scoped>\n",
       "    .dataframe tbody tr th:only-of-type {\n",
       "        vertical-align: middle;\n",
       "    }\n",
       "\n",
       "    .dataframe tbody tr th {\n",
       "        vertical-align: top;\n",
       "    }\n",
       "\n",
       "    .dataframe thead th {\n",
       "        text-align: right;\n",
       "    }\n",
       "</style>\n",
       "<table border=\"1\" class=\"dataframe\">\n",
       "  <thead>\n",
       "    <tr style=\"text-align: right;\">\n",
       "      <th>Salary</th>\n",
       "      <th>0</th>\n",
       "      <th>1</th>\n",
       "    </tr>\n",
       "    <tr>\n",
       "      <th>row_0</th>\n",
       "      <th></th>\n",
       "      <th></th>\n",
       "    </tr>\n",
       "  </thead>\n",
       "  <tbody>\n",
       "    <tr>\n",
       "      <th>0</th>\n",
       "      <td>10151</td>\n",
       "      <td>2733</td>\n",
       "    </tr>\n",
       "    <tr>\n",
       "      <th>1</th>\n",
       "      <td>469</td>\n",
       "      <td>777</td>\n",
       "    </tr>\n",
       "  </tbody>\n",
       "</table>\n",
       "</div>"
      ],
      "text/plain": [
       "Salary      0     1\n",
       "row_0              \n",
       "0       10151  2733\n",
       "1         469   777"
      ]
     },
     "execution_count": 112,
     "metadata": {},
     "output_type": "execute_result"
    }
   ],
   "source": [
    "pd.crosstab(test_pred,new_salary_test.Salary)"
   ]
  },
  {
   "cell_type": "code",
   "execution_count": 113,
   "id": "37f47f60",
   "metadata": {},
   "outputs": [
    {
     "data": {
      "text/plain": [
       "0.7683158012117608"
      ]
     },
     "execution_count": 113,
     "metadata": {},
     "output_type": "execute_result"
    }
   ],
   "source": [
    "#training the data accuracy\n",
    "train_pred=classifier_mb.predict(new_salary_train)\n",
    "accuracy_train=np.mean(train_pred==new_salary_train.Salary)\n",
    "accuracy_train"
   ]
  },
  {
   "cell_type": "code",
   "execution_count": 115,
   "id": "716e96e7",
   "metadata": {},
   "outputs": [],
   "source": [
    "# Multinomial Naive Bayes changing default alpha for laplace smoothing\n",
    "# if alpha = 0 then no smoothing is applied and the default alpha parameter is 1\n",
    "# the smoothing process mainly solves the emergence of zero probability problem in the dataset."
   ]
  },
  {
   "cell_type": "code",
   "execution_count": 116,
   "id": "f9128ae2",
   "metadata": {},
   "outputs": [
    {
     "data": {
      "text/plain": [
       "MultinomialNB(alpha=3)"
      ]
     },
     "execution_count": 116,
     "metadata": {},
     "output_type": "execute_result"
    }
   ],
   "source": [
    "classifier_mb_lap = MB(alpha = 3)\n",
    "classifier_mb_lap.fit(new_salary_train, new_salary_train.Salary)"
   ]
  },
  {
   "cell_type": "code",
   "execution_count": 117,
   "id": "dd7d7fbf",
   "metadata": {},
   "outputs": [
    {
     "data": {
      "text/plain": [
       "0.7733899504600141"
      ]
     },
     "execution_count": 117,
     "metadata": {},
     "output_type": "execute_result"
    }
   ],
   "source": [
    "# Evaluation on Test Data after applying laplace\n",
    "test_pred_lap = classifier_mb_lap.predict(new_salary_test)\n",
    "accuracy_test_lap = np.mean(test_pred_lap == new_salary_test.Salary)\n",
    "accuracy_test_lap"
   ]
  },
  {
   "cell_type": "code",
   "execution_count": 118,
   "id": "8844b124",
   "metadata": {},
   "outputs": [
    {
     "data": {
      "text/plain": [
       "0.7733899504600141"
      ]
     },
     "execution_count": 118,
     "metadata": {},
     "output_type": "execute_result"
    }
   ],
   "source": [
    "from sklearn.metrics import accuracy_score\n",
    "accuracy_score(test_pred_lap,new_salary_test.Salary)"
   ]
  },
  {
   "cell_type": "code",
   "execution_count": 119,
   "id": "362ba7f9",
   "metadata": {},
   "outputs": [
    {
     "data": {
      "text/html": [
       "<div>\n",
       "<style scoped>\n",
       "    .dataframe tbody tr th:only-of-type {\n",
       "        vertical-align: middle;\n",
       "    }\n",
       "\n",
       "    .dataframe tbody tr th {\n",
       "        vertical-align: top;\n",
       "    }\n",
       "\n",
       "    .dataframe thead th {\n",
       "        text-align: right;\n",
       "    }\n",
       "</style>\n",
       "<table border=\"1\" class=\"dataframe\">\n",
       "  <thead>\n",
       "    <tr style=\"text-align: right;\">\n",
       "      <th>Salary</th>\n",
       "      <th>0</th>\n",
       "      <th>1</th>\n",
       "    </tr>\n",
       "    <tr>\n",
       "      <th>row_0</th>\n",
       "      <th></th>\n",
       "      <th></th>\n",
       "    </tr>\n",
       "  </thead>\n",
       "  <tbody>\n",
       "    <tr>\n",
       "      <th>0</th>\n",
       "      <td>10151</td>\n",
       "      <td>2733</td>\n",
       "    </tr>\n",
       "    <tr>\n",
       "      <th>1</th>\n",
       "      <td>469</td>\n",
       "      <td>777</td>\n",
       "    </tr>\n",
       "  </tbody>\n",
       "</table>\n",
       "</div>"
      ],
      "text/plain": [
       "Salary      0     1\n",
       "row_0              \n",
       "0       10151  2733\n",
       "1         469   777"
      ]
     },
     "execution_count": 119,
     "metadata": {},
     "output_type": "execute_result"
    }
   ],
   "source": [
    "pd.crosstab(test_pred_lap,new_salary_test.Salary)"
   ]
  },
  {
   "cell_type": "code",
   "execution_count": 121,
   "id": "2c860cf9",
   "metadata": {},
   "outputs": [
    {
     "data": {
      "text/plain": [
       "0.7683158012117608"
      ]
     },
     "execution_count": 121,
     "metadata": {},
     "output_type": "execute_result"
    }
   ],
   "source": [
    "#training data accuracy\n",
    "train_pred_lap=classifier_mb_lap.predict(new_salary_train)\n",
    "accuracy_train_lap=np.mean(train_pred_lap==new_salary_train.Salary)\n",
    "accuracy_train_lap"
   ]
  },
  {
   "cell_type": "code",
   "execution_count": null,
   "id": "8ce75627",
   "metadata": {},
   "outputs": [],
   "source": []
  }
 ],
 "metadata": {
  "kernelspec": {
   "display_name": "Python 3",
   "language": "python",
   "name": "python3"
  },
  "language_info": {
   "codemirror_mode": {
    "name": "ipython",
    "version": 3
   },
   "file_extension": ".py",
   "mimetype": "text/x-python",
   "name": "python",
   "nbconvert_exporter": "python",
   "pygments_lexer": "ipython3",
   "version": "3.8.8"
  }
 },
 "nbformat": 4,
 "nbformat_minor": 5
}
